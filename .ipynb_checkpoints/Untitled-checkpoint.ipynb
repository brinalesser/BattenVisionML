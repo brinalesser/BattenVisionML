{
 "cells": [
  {
   "cell_type": "code",
   "execution_count": 1,
   "id": "c1d290a7",
   "metadata": {},
   "outputs": [],
   "source": [
    "%load_ext cython\n"
   ]
  },
  {
   "cell_type": "code",
   "execution_count": null,
   "id": "e08489e9",
   "metadata": {},
   "outputs": [],
   "source": [
    "%%cython -a\n",
    "\n",
    "import cython\n",
    "import cv2 as cv\n",
    "import numpy as np\n",
    "\n",
    "@cython.boundscheck(False)\n",
    "\n",
    "cpdef unsigned char[:,:] process_image(unsigned char[:,:] im):\n",
    "    return im\n",
    "\n",
    "cap = cv.VideoCapture(0)\n",
    "if(not cap.isOpened()):\n",
    "    print(\"failed to read video\")\n",
    "while(cap.isOpened()):\n",
    "    ret,frame = cap.read()\n",
    "    if (ret):\n",
    "        cv.imshow(\"Original\", frame)\n",
    "        new_frame = process_image(frame)\n",
    "        cv.imshow(\"New\", new_frame)\n",
    "    else:\n",
    "        print(\"failed to read frame\")\n",
    "        break\n"
   ]
  },
  {
   "cell_type": "code",
   "execution_count": null,
   "id": "1191c8f2",
   "metadata": {},
   "outputs": [],
   "source": []
  }
 ],
 "metadata": {
  "kernelspec": {
   "display_name": "Python 3 (ipykernel)",
   "language": "python",
   "name": "python3"
  },
  "language_info": {
   "codemirror_mode": {
    "name": "ipython",
    "version": 3
   },
   "file_extension": ".py",
   "mimetype": "text/x-python",
   "name": "python",
   "nbconvert_exporter": "python",
   "pygments_lexer": "ipython3",
   "version": "3.7.3"
  }
 },
 "nbformat": 4,
 "nbformat_minor": 5
}
